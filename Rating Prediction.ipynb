{
 "cells": [
  {
   "cell_type": "code",
   "execution_count": 1,
   "id": "96924d01",
   "metadata": {},
   "outputs": [],
   "source": [
    "import pandas as pd\n",
    "import numpy as np\n",
    "from bs4 import BeautifulSoup\n",
    "import selenium.webdriver\n",
    "from selenium import webdriver \n",
    "from datetime import date \n",
    "from selenium.webdriver.support.ui import WebDriverWait\n",
    "from selenium.webdriver.support import expected_conditions as EC \n",
    "from selenium.webdriver.common.by import By\n",
    "from dateutil.relativedelta import relativedelta\n",
    "import csv\n",
    "import linecache\n",
    "import sys\n",
    "import matplotlib.pyplot as plt\n",
    "import seaborn as sns\n",
    "import datetime as dt\n",
    "import time\n",
    "\n",
    "import warnings\n",
    "warnings.filterwarnings('ignore')\n"
   ]
  },
  {
   "cell_type": "code",
   "execution_count": 2,
   "id": "4d28995c",
   "metadata": {},
   "outputs": [],
   "source": [
    "driver=webdriver.Chrome(r\"C:\\Users\\Ramesh\\Desktop\\PYTHON\\chromedriver.exe\")"
   ]
  },
  {
   "cell_type": "code",
   "execution_count": 3,
   "id": "89969224",
   "metadata": {},
   "outputs": [],
   "source": [
    "driver.get('https://www.flipkart.com/boat-blitz-1500-multimedia-50-w-bluetooth-home-theatre/product-reviews/itma1eb339f35e7f?pid=ACCFYWX3SM6EUDBC&lid=LSTACCFYWX3SM6EUDBCAMU1XX&aid=overall&certifiedBuyer=false&sortOrder=NEGATIVE_FIRST&page=13')\n"
   ]
  },
  {
   "cell_type": "code",
   "execution_count": 4,
   "id": "3e9a3a01",
   "metadata": {},
   "outputs": [],
   "source": [
    "try:\n",
    "    login_page=driver.find_element_by_xpath('/html/body/div[2]/div/div/button')\n",
    "    login_page.click()\n",
    "except: pass"
   ]
  },
  {
   "cell_type": "code",
   "execution_count": 5,
   "id": "b850f824",
   "metadata": {},
   "outputs": [],
   "source": [
    "# How many pages to scrap\n",
    "start=0\n",
    "end=250\n",
    "\n",
    "# create empty list to save scrapped data\n",
    "\n",
    "rating=[]\n",
    "title=[]\n",
    "review=[]"
   ]
  },
  {
   "cell_type": "code",
   "execution_count": 6,
   "id": "d243f8e5",
   "metadata": {},
   "outputs": [
    {
     "data": {
      "text/plain": [
       "(0, 200, 400)"
      ]
     },
     "execution_count": 6,
     "metadata": {},
     "output_type": "execute_result"
    }
   ],
   "source": [
    "start=0\n",
    "end=200\n",
    "for page in range(start, end):\n",
    "    time.sleep(4)\n",
    "    ratings= driver.find_elements_by_xpath('//div[@class=\"_3LWZlK\"]/div[1]/div[1]')\n",
    "    titles= driver.find_elements_by_xpath(\"//a[@class='s1Q9rs _2qfgz2']\")\n",
    "    reviews=driver.find_elements_by_xpath(\"//div[@class='col-12-12']\")\n",
    "    \n",
    "    for i in ratings:\n",
    "        rating.append(i.text)\n",
    "    for j in titles:\n",
    "        title.append(j.text)\n",
    "    for k in reviews:\n",
    "        review.append(k.text)\n",
    "    next_button= driver.find_elements_by_xpath('//span[@class=\"_22Tduf\"]')\n",
    "    \n",
    "        \n",
    "        \n",
    "\n",
    "        \n",
    "    \n",
    "len(rating), len(title), len(review)"
   ]
  },
  {
   "cell_type": "code",
   "execution_count": null,
   "id": "bab936ae",
   "metadata": {},
   "outputs": [],
   "source": []
  }
 ],
 "metadata": {
  "kernelspec": {
   "display_name": "Python 3 (ipykernel)",
   "language": "python",
   "name": "python3"
  },
  "language_info": {
   "codemirror_mode": {
    "name": "ipython",
    "version": 3
   },
   "file_extension": ".py",
   "mimetype": "text/x-python",
   "name": "python",
   "nbconvert_exporter": "python",
   "pygments_lexer": "ipython3",
   "version": "3.9.7"
  }
 },
 "nbformat": 4,
 "nbformat_minor": 5
}
